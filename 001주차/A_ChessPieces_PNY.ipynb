{
  "nbformat": 4,
  "nbformat_minor": 0,
  "metadata": {
    "colab": {
      "provenance": [],
      "toc_visible": true
    },
    "kernelspec": {
      "name": "python3",
      "display_name": "Python 3"
    },
    "language_info": {
      "name": "python"
    }
  },
  "cells": [
    {
      "cell_type": "markdown",
      "source": [
        "# 백준 30003번 문제"
      ],
      "metadata": {
        "id": "6uylKGtprwGo"
      }
    },
    {
      "cell_type": "markdown",
      "source": [
        "* 시도 1"
      ],
      "metadata": {
        "id": "8Tu-PalBsgHb"
      }
    },
    {
      "cell_type": "code",
      "execution_count": null,
      "metadata": {
        "id": "LtC4uTHwrrlB"
      },
      "outputs": [],
      "source": [
        "chess = [1,1,2,2,2,8]\n",
        "need = []\n",
        "\n",
        "now = list(map(int, input().split()))\n",
        "\n",
        "for a,b in zip(chess, now):\n",
        "  need.append(a-b)\n",
        "\n",
        "print(need)"
      ]
    },
    {
      "cell_type": "markdown",
      "source": [
        "* 시도 2, 3"
      ],
      "metadata": {
        "id": "ASNS89-3skP7"
      }
    },
    {
      "cell_type": "code",
      "source": [
        "chess = [1,1,2,2,2,8]\n",
        "\n",
        "now = list(map(int, input().split()))\n",
        "\n",
        "for a,b in zip(chess, now):\n",
        "  print(a-b, end=\" \")  # end = \"\"  > 공백 안 줘서 틀림"
      ],
      "metadata": {
        "colab": {
          "base_uri": "https://localhost:8080/"
        },
        "id": "A30sn23rr9y8",
        "outputId": "0b8f7d1e-0a9f-4520-af21-aac1504df061"
      },
      "execution_count": 3,
      "outputs": [
        {
          "output_type": "stream",
          "name": "stdout",
          "text": [
            "2 1 2 1 2 1\n",
            "-1 0 0 1 0 7 "
          ]
        }
      ]
    }
  ]
}