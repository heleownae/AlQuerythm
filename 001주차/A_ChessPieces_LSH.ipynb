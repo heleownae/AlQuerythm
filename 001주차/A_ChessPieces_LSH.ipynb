input = list(map(int,input().split(' ')))
origin = [1, 1 , 2, 2, 2 ,8]
for ori,inp in zip(origin, input):
    print(ori-inp, end=' ')
