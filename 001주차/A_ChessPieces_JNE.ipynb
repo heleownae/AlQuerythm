{
 "cells": [
  {
   "cell_type": "code",
   "execution_count": 1,
   "metadata": {},
   "outputs": [
    {
     "name": "stdout",
     "output_type": "stream",
     "text": [
      "[1, 0, 0, 0, 0, 1]\n"
     ]
    }
   ],
   "source": [
    "a = [0, 1, 2, 2, 2, 7]\n",
    "b = []\n",
    "\n",
    "if a[0] == 1:\n",
    "    b.append(0)\n",
    "else :\n",
    "    b.append((1 - a[0]))\n",
    "if a[1] == 1:\n",
    "    b.append(0)\n",
    "else :\n",
    "    b.append((1 - a[1]))\n",
    "if a[2] == 2:\n",
    "    b.append(0)\n",
    "else :\n",
    "    b.append((2 - a[2]))\n",
    "if a[3] == 2:\n",
    "    b.append(0)\n",
    "else :\n",
    "    b.append((2 - a[3]))\n",
    "if a[4] == 2:\n",
    "    b.append(0)\n",
    "else :\n",
    "    b.append((2 - a[4]))\n",
    "if a[5] == 8:\n",
    "    b.append(0)\n",
    "else :\n",
    "    b.append((8 - a[5]))\n",
    "    \n",
    "print(b)"
   ]
  }
 ],
 "metadata": {
  "kernelspec": {
   "display_name": "Python 3",
   "language": "python",
   "name": "python3"
  },
  "language_info": {
   "codemirror_mode": {
    "name": "ipython",
    "version": 3
   },
   "file_extension": ".py",
   "mimetype": "text/x-python",
   "name": "python",
   "nbconvert_exporter": "python",
   "pygments_lexer": "ipython3",
   "version": "3.12.1"
  }
 },
 "nbformat": 4,
 "nbformat_minor": 2
}
