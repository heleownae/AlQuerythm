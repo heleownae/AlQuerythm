{
  "nbformat": 4,
  "nbformat_minor": 0,
  "metadata": {
    "colab": {
      "provenance": [],
      "toc_visible": true
    },
    "kernelspec": {
      "name": "python3",
      "display_name": "Python 3"
    },
    "language_info": {
      "name": "python"
    }
  },
  "cells": [
    {
      "cell_type": "markdown",
      "source": [
        "# 백준 11399번 문제 / ATM\n",
        "\n",
        "https://www.acmicpc.net/problem/11399\n"
      ],
      "metadata": {
        "id": "6uylKGtprwGo"
      }
    },
    {
      "cell_type": "markdown",
      "source": [
        "💡 그리디 알고리즘(탐욕법, Greedy Algorithm) 이란?\n",
        "\n",
        "- 최적의 값을 구해야 하는 상황에서 사용되는 근시안적인 방법론으로 ‘각 단계에서 최적이라고 생각되는 것을 선택’ 해 나가는 방식으로 진행하여 최종적인 해답에 도달하는 알고리즘입니다.\n",
        "- 이때, 항상 최적의 값을 보장하는것이 아니라 최적의 값의 ‘근사한 값’을 목표로 하고 있습니다.\n",
        "\n",
        "- 주로 문제를 분할 가능한 문제들로 분할한 뒤, 각 문제들에 대한 최적해를 구한 뒤 이를 결합하여 전체 문제의 최적해를 구하는 경우에 주로 사용됩니다.\n",
        "\n",
        "https://adjh54.tistory.com/212#google_vignette"
      ],
      "metadata": {
        "id": "L5GoCdrP7MNy"
      }
    },
    {
      "cell_type": "code",
      "source": [
        "accum = 0\n",
        "accum_sum = 0\n",
        "people = int(input())\n",
        "time = sorted(map(int, input().split()))\n",
        "\n",
        "for i in range(people):\n",
        "  accum += time[i]\n",
        "  accum_sum += accum\n",
        "\n",
        "print(accum_sum)"
      ],
      "metadata": {
        "colab": {
          "base_uri": "https://localhost:8080/"
        },
        "id": "7_WHLsLHh1a0",
        "outputId": "d3982843-2443-4142-f4f0-98233f1321c9"
      },
      "execution_count": 7,
      "outputs": [
        {
          "output_type": "stream",
          "name": "stdout",
          "text": [
            "5\n",
            "3 1 4 3 2\n",
            "32\n"
          ]
        }
      ]
    },
    {
      "cell_type": "markdown",
      "source": [
        "## 번호까지 출력"
      ],
      "metadata": {
        "id": "vh6FH9X_CSDt"
      }
    },
    {
      "cell_type": "code",
      "source": [
        "accum = 0\n",
        "accum_sum = 0\n",
        "people = list(range(1, int(input())+1))\n",
        "time = list(map(int, input().split()))\n",
        "people_new = []\n",
        "\n",
        "pt = list(zip(people, time))\n",
        "pt.sort(key=lambda x:x[1])\n",
        "\n",
        "for i in pt:\n",
        "  accum += i[1]\n",
        "  accum_sum += accum\n",
        "  people_new += [i[0]]\n",
        "\n",
        "print(accum_sum)\n",
        "print(people_new)"
      ],
      "metadata": {
        "colab": {
          "base_uri": "https://localhost:8080/"
        },
        "id": "i54yGqZtCZqR",
        "outputId": "2fd2f5a7-f873-4329-e7b4-ac9be705ae3e"
      },
      "execution_count": 15,
      "outputs": [
        {
          "output_type": "stream",
          "name": "stdout",
          "text": [
            "5\n",
            "3 1 4 3 2\n",
            "32\n",
            "[2, 5, 1, 4, 3]\n"
          ]
        }
      ]
    },
    {
      "cell_type": "code",
      "source": [
        "people = list(range(1, int(input())+1))\n",
        "time = list(map(int, input().split()))\n",
        "\n",
        "pt = list(zip(people, time))\n",
        "print(pt)"
      ],
      "metadata": {
        "colab": {
          "base_uri": "https://localhost:8080/"
        },
        "id": "Plx6fH34DKwM",
        "outputId": "7f0835c0-33ea-4c6d-d84a-fe716c31dbaa"
      },
      "execution_count": 9,
      "outputs": [
        {
          "output_type": "stream",
          "name": "stdout",
          "text": [
            "5\n",
            "3 1 4 3 2\n",
            "[(1, 3), (2, 1), (3, 4), (4, 3), (5, 2)]\n"
          ]
        }
      ]
    },
    {
      "cell_type": "code",
      "source": [
        "pt.sort(key=lambda x:x[1])     # https://infinitt.tistory.com/122\n",
        "pt"
      ],
      "metadata": {
        "colab": {
          "base_uri": "https://localhost:8080/"
        },
        "id": "0f4TQe7KEjJ8",
        "outputId": "6cfbe860-1c24-4684-f655-cffb4e4613f6"
      },
      "execution_count": 13,
      "outputs": [
        {
          "output_type": "execute_result",
          "data": {
            "text/plain": [
              "[(2, 1), (5, 2), (1, 3), (4, 3), (3, 4)]"
            ]
          },
          "metadata": {},
          "execution_count": 13
        }
      ]
    }
  ]
}