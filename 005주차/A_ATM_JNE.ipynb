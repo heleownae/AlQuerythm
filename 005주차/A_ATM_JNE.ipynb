{
 "cells": [
  {
   "cell_type": "code",
   "execution_count": 10,
   "metadata": {},
   "outputs": [
    {
     "data": {
      "text/plain": [
       "32"
      ]
     },
     "execution_count": 10,
     "metadata": {},
     "output_type": "execute_result"
    }
   ],
   "source": [
    "# 인원 수\n",
    "n = int(input())\n",
    "# 인출 시간\n",
    "p = list(map(int, input().split()))\n",
    "\n",
    "# 인출 시간 오름차순\n",
    "p.sort()\n",
    "\n",
    "# n번째 사람이 걸린 시간\n",
    "waiting = 0\n",
    "# 전체 누적 시간\n",
    "total_waiting = 0\n",
    "for i in p:\n",
    "    waiting += i\n",
    "    total_waiting += waiting\n",
    "\n",
    "total_waiting"
   ]
  }
 ],
 "metadata": {
  "kernelspec": {
   "display_name": "Python 3",
   "language": "python",
   "name": "python3"
  },
  "language_info": {
   "codemirror_mode": {
    "name": "ipython",
    "version": 3
   },
   "file_extension": ".py",
   "mimetype": "text/x-python",
   "name": "python",
   "nbconvert_exporter": "python",
   "pygments_lexer": "ipython3",
   "version": "3.12.1"
  }
 },
 "nbformat": 4,
 "nbformat_minor": 2
}
