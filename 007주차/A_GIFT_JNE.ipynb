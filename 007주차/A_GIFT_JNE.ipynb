{
 "cells": [
  {
   "cell_type": "code",
   "execution_count": 5,
   "metadata": {},
   "outputs": [
    {
     "ename": "KeyboardInterrupt",
     "evalue": "",
     "output_type": "error",
     "traceback": [
      "\u001b[1;31m---------------------------------------------------------------------------\u001b[0m",
      "\u001b[1;31mKeyboardInterrupt\u001b[0m                         Traceback (most recent call last)",
      "Cell \u001b[1;32mIn[5], line 18\u001b[0m\n\u001b[0;32m     14\u001b[0m     \u001b[38;5;28;01mreturn\u001b[39;00m low\n\u001b[0;32m     16\u001b[0m N, L, W, H \u001b[38;5;241m=\u001b[39m \u001b[38;5;28mmap\u001b[39m(\u001b[38;5;28mint\u001b[39m, \u001b[38;5;28minput\u001b[39m()\u001b[38;5;241m.\u001b[39msplit())\n\u001b[1;32m---> 18\u001b[0m max_A \u001b[38;5;241m=\u001b[39m \u001b[43mfind_max_A\u001b[49m\u001b[43m(\u001b[49m\u001b[43mN\u001b[49m\u001b[43m,\u001b[49m\u001b[43m \u001b[49m\u001b[43mL\u001b[49m\u001b[43m,\u001b[49m\u001b[43m \u001b[49m\u001b[43mW\u001b[49m\u001b[43m,\u001b[49m\u001b[43m \u001b[49m\u001b[43mH\u001b[49m\u001b[43m)\u001b[49m\n\u001b[0;32m     20\u001b[0m \u001b[38;5;28mprint\u001b[39m(\u001b[38;5;124mf\u001b[39m\u001b[38;5;124m\"\u001b[39m\u001b[38;5;132;01m{\u001b[39;00mmax_A\u001b[38;5;132;01m:\u001b[39;00m\u001b[38;5;124m.1f\u001b[39m\u001b[38;5;132;01m}\u001b[39;00m\u001b[38;5;124m\"\u001b[39m)\n",
      "Cell \u001b[1;32mIn[5], line 10\u001b[0m, in \u001b[0;36mfind_max_A\u001b[1;34m(N, L, W, H)\u001b[0m\n\u001b[0;32m      8\u001b[0m \u001b[38;5;28;01mwhile\u001b[39;00m high \u001b[38;5;241m-\u001b[39m low \u001b[38;5;241m>\u001b[39m \u001b[38;5;241m0\u001b[39m:\n\u001b[0;32m      9\u001b[0m     mid \u001b[38;5;241m=\u001b[39m (low \u001b[38;5;241m+\u001b[39m high) \u001b[38;5;241m/\u001b[39m \u001b[38;5;241m2\u001b[39m\n\u001b[1;32m---> 10\u001b[0m     \u001b[38;5;28;01mif\u001b[39;00m \u001b[43mbig_box\u001b[49m\u001b[43m(\u001b[49m\u001b[43mN\u001b[49m\u001b[43m,\u001b[49m\u001b[43m \u001b[49m\u001b[43mL\u001b[49m\u001b[43m,\u001b[49m\u001b[43m \u001b[49m\u001b[43mW\u001b[49m\u001b[43m,\u001b[49m\u001b[43m \u001b[49m\u001b[43mH\u001b[49m\u001b[43m,\u001b[49m\u001b[43m \u001b[49m\u001b[43mmid\u001b[49m\u001b[43m)\u001b[49m:\n\u001b[0;32m     11\u001b[0m         low \u001b[38;5;241m=\u001b[39m mid\n\u001b[0;32m     12\u001b[0m     \u001b[38;5;28;01melse\u001b[39;00m:\n",
      "Cell \u001b[1;32mIn[5], line 2\u001b[0m, in \u001b[0;36mbig_box\u001b[1;34m(N, L, W, H, A)\u001b[0m\n\u001b[0;32m      1\u001b[0m \u001b[38;5;66;03m# 큰 박스에 넣을 수 있는 선물 갯수 확인\u001b[39;00m\n\u001b[1;32m----> 2\u001b[0m \u001b[38;5;28;01mdef\u001b[39;00m \u001b[38;5;21mbig_box\u001b[39m(N, L, W, H, A):\n\u001b[0;32m      3\u001b[0m     \u001b[38;5;28;01mreturn\u001b[39;00m (L \u001b[38;5;241m/\u001b[39m\u001b[38;5;241m/\u001b[39m A) \u001b[38;5;241m*\u001b[39m (W \u001b[38;5;241m/\u001b[39m\u001b[38;5;241m/\u001b[39m A) \u001b[38;5;241m*\u001b[39m (H \u001b[38;5;241m/\u001b[39m\u001b[38;5;241m/\u001b[39m A) \u001b[38;5;241m>\u001b[39m\u001b[38;5;241m=\u001b[39m N\n\u001b[0;32m      5\u001b[0m \u001b[38;5;28;01mdef\u001b[39;00m \u001b[38;5;21mfind_max_A\u001b[39m(N, L, W, H):\n",
      "\u001b[1;31mKeyboardInterrupt\u001b[0m: "
     ]
    }
   ],
   "source": [
    "# 큰 박스에 넣을 수 있는 선물 갯수 확인\n",
    "def big_box(N, L, W, H, A):\n",
    "    return (L // A) * (W // A) * (H // A) >= N\n",
    "\n",
    "def find_A(N, L, W, H):\n",
    "    low, high = 1, max(L, W, H)\n",
    "    # 충분히 작은 오차 범위 내에서 반복을 종료하기 위함\n",
    "    while high - low > 0:\n",
    "        mid = (low + high) / 2\n",
    "        if big_box(N, L, W, H, mid):\n",
    "            low = mid\n",
    "        else:\n",
    "            high = mid\n",
    "    return low\n",
    "\n",
    "N, L, W, H = map(int, input().split())\n",
    "\n",
    "max_A = find_A(N, L, W, H)\n",
    "\n",
    "print(round(max_A, 1))\n",
    "# 시간 초과, 무한루프"
   ]
  },
  {
   "cell_type": "code",
   "execution_count": 7,
   "metadata": {},
   "outputs": [
    {
     "name": "stdout",
     "output_type": "stream",
     "text": [
      "52.299999999744614\n"
     ]
    }
   ],
   "source": [
    "# 큰 박스에 넣을 수 있는 선물 갯수 확인\n",
    "def big_box(N, L, W, H, A):\n",
    "    return (L // A) * (W // A) * (H // A) >= N\n",
    "\n",
    "def find_A(N, L, W, H):\n",
    "    low, high = 1, max(L, W, H)\n",
    "    \n",
    "    while high - low > 1e-9:\n",
    "        mid = (low + high) / 2\n",
    "        if big_box(N, L, W, H, mid):\n",
    "            low = mid\n",
    "        else:\n",
    "            high = mid\n",
    "    return low\n",
    "\n",
    "N, L, W, H = map(int, input().split())\n",
    "\n",
    "max_A = find_A(N, L, W, H)\n",
    "\n",
    "print(round(max_A, 15))\n",
    "# 시간 초과?"
   ]
  }
 ],
 "metadata": {
  "kernelspec": {
   "display_name": "Python 3",
   "language": "python",
   "name": "python3"
  },
  "language_info": {
   "codemirror_mode": {
    "name": "ipython",
    "version": 3
   },
   "file_extension": ".py",
   "mimetype": "text/x-python",
   "name": "python",
   "nbconvert_exporter": "python",
   "pygments_lexer": "ipython3",
   "version": "3.12.1"
  }
 },
 "nbformat": 4,
 "nbformat_minor": 2
}
