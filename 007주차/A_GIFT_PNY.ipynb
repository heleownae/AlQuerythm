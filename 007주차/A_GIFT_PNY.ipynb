{
  "nbformat": 4,
  "nbformat_minor": 0,
  "metadata": {
    "colab": {
      "provenance": [],
      "toc_visible": true
    },
    "kernelspec": {
      "name": "python3",
      "display_name": "Python 3"
    },
    "language_info": {
      "name": "python"
    }
  },
  "cells": [
    {
      "cell_type": "markdown",
      "source": [
        "# 백준 1166번 문제 / 선물\n",
        "\n",
        "https://www.acmicpc.net/problem/1166\n",
        "\n",
        "민식이는 아이들에게 선물할 같은 크기의 작은 박스를 N개 가지고 있다. 모든 작은 박스는 정육면체이고, 크기는 A × A × A 이다. 민식이는 이 작은 박스를 크기가 L × W × H 인 직육면체 박스에 모두 넣으려고 한다. 모든 작은 박스는 큰 박스 안에 있어야 하고, 작은 박스의 변은 큰 박스의 변과 평행해야 한다.\n",
        "\n",
        "N, L, W, H가 주어질 때, 가능한 A의 최댓값을 찾는 프로그램을 작성하시오."
      ],
      "metadata": {
        "id": "6uylKGtprwGo"
      }
    },
    {
      "cell_type": "markdown",
      "source": [
        "1. N, L, W, H 입력 받기\n",
        "2. A 범위 지정 (0 ~ [L, W, H]의 최소값)\n",
        "  * A의 최소 길이 = 0\n",
        "  * A의 최대 길이 = 작은 박스가 큰 박스의 가장 짧은 변보다 클 수 없음 ∴ [L, W, H]의 최소값\n",
        "3. 이진 탐색\n",
        "  1. 중간값 m 구하기\n",
        "  2. 중간값으로 들어갈 수 있는 박스의 개수 구하기\n",
        "    * x = L//m, L 변에 들어갈 수 있는 박스의 개수\n",
        "    * y = W//m\n",
        "    * z = H//m\n",
        "    * 박스 개수 O = x * y * z\n",
        "  3. 박스의 개수가 O이 N보다 작으면 중간값이 너무 큰 것. 중간값을 이진 탐색의 최대치로 설정\n",
        "  4. 그렇지 않으면 중간값을 이진 탐색의 최소치로 설정\n",
        "  5. 위의 과정 계속 반복 후 최대치 반환 (최소치와 최대치가 가까운 값으로 수렴할 때 까지)\n",
        "\n",
        "\n",
        "\n",
        "\n"
      ],
      "metadata": {
        "id": "YiXXfqv9MfRx"
      }
    },
    {
      "cell_type": "code",
      "source": [
        "# 입력 받기\n",
        "n, l, w, h = map(int, input().split())\n",
        "# A 범위 지정\n",
        "lower, upper = 0, min(l,w,h)\n",
        "\n",
        "# 이진 탐색\n",
        "for _ in range(30):\n",
        "  # 중간값 m 구하기\n",
        "  m = (lower + upper) / 2\n",
        "  # 박스 개수 구하고 중간값을 최대치/최소치로 설정\n",
        "  x = int(l//m)\n",
        "  y = int(w//m)\n",
        "  z = int(h//m)\n",
        "\n",
        "  if x * y * z < n:\n",
        "    upper = m\n",
        "  else:\n",
        "    lower = m\n",
        "\n",
        "# 최대치 반환\n",
        "print(upper)"
      ],
      "metadata": {
        "id": "r07s4iRuHv8i"
      },
      "execution_count": null,
      "outputs": []
    },
    {
      "cell_type": "code",
      "source": [
        "# 입력 받기\n",
        "n, l, w, h = map(int, input().split())\n",
        "# A 범위 지정\n",
        "lower, upper = 0, min(l,w,h)\n",
        "\n",
        "# 이진 탐색\n",
        "for _ in range(35):\n",
        "  # 중간값 m 구하기\n",
        "  m = (lower + upper) / 2\n",
        "  # 박스 개수 구하고 중간값을 최대치/최소치로 설정\n",
        "  x = int(l//m)\n",
        "  y = int(w//m)\n",
        "  z = int(h//m)\n",
        "\n",
        "  if x * y * z < n:\n",
        "    upper = m\n",
        "  else:\n",
        "    lower = m\n",
        "\n",
        "# 최대치 반환\n",
        "print(upper)"
      ],
      "metadata": {
        "id": "6ae9lOqnWLch"
      },
      "execution_count": null,
      "outputs": []
    },
    {
      "cell_type": "code",
      "source": [
        "# 입력 받기\n",
        "n, l, w, h = map(int, input().split())\n",
        "# A 범위 지정\n",
        "lower, upper = 0, min(l,w,h)\n",
        "\n",
        "# 이진 탐색\n",
        "for _ in range(40):\n",
        "  # 중간값 m 구하기\n",
        "  m = (lower + upper) / 2\n",
        "  # 박스 개수 구하고 중간값을 최대치/최소치로 설정\n",
        "  x = int(l//m)\n",
        "  y = int(w//m)\n",
        "  z = int(h//m)\n",
        "\n",
        "  if x * y * z < n:\n",
        "    upper = m\n",
        "  else:\n",
        "    lower = m\n",
        "\n",
        "# 최대치 반환\n",
        "print(upper)"
      ],
      "metadata": {
        "id": "8Pkjf3TtWASj"
      },
      "execution_count": null,
      "outputs": []
    }
  ]
}