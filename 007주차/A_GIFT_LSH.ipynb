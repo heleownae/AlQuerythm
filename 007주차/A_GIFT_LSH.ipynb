{
  "nbformat": 4,
  "nbformat_minor": 0,
  "metadata": {
    "colab": {
      "provenance": [],
      "authorship_tag": "ABX9TyNJ96yDSokXyneEwFsQPNC3",
      "include_colab_link": true
    },
    "kernelspec": {
      "name": "python3",
      "display_name": "Python 3"
    },
    "language_info": {
      "name": "python"
    }
  },
  "cells": [
    {
      "cell_type": "markdown",
      "metadata": {
        "id": "view-in-github",
        "colab_type": "text"
      },
      "source": [
        "<a href=\"https://colab.research.google.com/github/heleownae/AlQuerythm/blob/main/007%EC%A3%BC%EC%B0%A8/A_GIFT_LSH.ipynb\" target=\"_parent\"><img src=\"https://colab.research.google.com/assets/colab-badge.svg\" alt=\"Open In Colab\"/></a>"
      ]
    },
    {
      "cell_type": "code",
      "execution_count": 1,
      "metadata": {
        "colab": {
          "base_uri": "https://localhost:8080/"
        },
        "id": "R6M3A1zTA6AT",
        "outputId": "f9131fbd-488b-4f37-a1b0-ea6f0fd6ebaa"
      },
      "outputs": [
        {
          "output_type": "stream",
          "name": "stdout",
          "text": [
            "80\n"
          ]
        }
      ],
      "source": [
        "a= 4*2*10\n",
        "print(a)"
      ]
    },
    {
      "cell_type": "code",
      "source": [
        "pow(8, 1/3)"
      ],
      "metadata": {
        "colab": {
          "base_uri": "https://localhost:8080/"
        },
        "id": "ggp13ef4BIm8",
        "outputId": "d3486c24-162d-4521-bce9-077fe450682d"
      },
      "execution_count": 2,
      "outputs": [
        {
          "output_type": "execute_result",
          "data": {
            "text/plain": [
              "2.0"
            ]
          },
          "metadata": {},
          "execution_count": 2
        }
      ]
    },
    {
      "cell_type": "markdown",
      "source": [
        "77 146 523 229"
      ],
      "metadata": {
        "id": "-qFHaC80BmDZ"
      }
    },
    {
      "cell_type": "code",
      "source": [
        "a,b1,b2,b3 = map(int, input().split( ))\n",
        "result = pow((b1*b2*b3)//a,1/3)\n",
        "if result>min(b1,b2,b3):\n",
        "  print(min(b1,b2,b3))\n",
        "else:\n",
        "  print(result)\n"
      ],
      "metadata": {
        "colab": {
          "base_uri": "https://localhost:8080/"
        },
        "id": "q2bin-xdBhC1",
        "outputId": "eefc0fa4-a547-44eb-dce4-5a59a9da8130"
      },
      "execution_count": 35,
      "outputs": [
        {
          "output_type": "stream",
          "name": "stdout",
          "text": [
            "77 146 523 229\n",
            "61.009762837659274\n"
          ]
        }
      ]
    },
    {
      "cell_type": "code",
      "source": [
        "a,b1,b2,b3 = map(int, input().split( ))\n",
        "result = pow((b1*b2*b3)//a,1/3)\n",
        "print(result)"
      ],
      "metadata": {
        "colab": {
          "base_uri": "https://localhost:8080/"
        },
        "id": "xR_9vaivBxOq",
        "outputId": "0294c784-a545-44e2-f4ea-92d1b56edadc"
      },
      "execution_count": 37,
      "outputs": [
        {
          "output_type": "stream",
          "name": "stdout",
          "text": [
            "77 146 523 229\n",
            "61.009762837659274\n"
          ]
        }
      ]
    },
    {
      "cell_type": "code",
      "source": [
        "if result>min(b1,b2,b3):\n",
        "  result\n",
        "else:\n",
        "  min(b1,b2,b3)"
      ],
      "metadata": {
        "id": "43X0-XBCB2ui"
      },
      "execution_count": 38,
      "outputs": []
    },
    {
      "cell_type": "code",
      "source": [
        "print((146 * 523 * 229)//77)\n",
        "pow((146 * 523 * 229)//77,1/3)"
      ],
      "metadata": {
        "colab": {
          "base_uri": "https://localhost:8080/"
        },
        "id": "YTFUFlvYCSbg",
        "outputId": "d9560432-dea3-407e-b683-6eb4c47d8404"
      },
      "execution_count": 42,
      "outputs": [
        {
          "output_type": "stream",
          "name": "stdout",
          "text": [
            "227090\n"
          ]
        },
        {
          "output_type": "execute_result",
          "data": {
            "text/plain": [
              "61.009762837659274"
            ]
          },
          "metadata": {},
          "execution_count": 42
        }
      ]
    },
    {
      "cell_type": "code",
      "source": [
        "7//4"
      ],
      "metadata": {
        "colab": {
          "base_uri": "https://localhost:8080/"
        },
        "id": "SMoAAUQNOR-e",
        "outputId": "0576c024-f8c3-484d-dbb0-6504bc0e0201"
      },
      "execution_count": 39,
      "outputs": [
        {
          "output_type": "execute_result",
          "data": {
            "text/plain": [
              "1"
            ]
          },
          "metadata": {},
          "execution_count": 39
        }
      ]
    },
    {
      "cell_type": "code",
      "source": [
        "#case 1 => 통과\n",
        "a,b1,b2,b3 = map(int, input().split( ))\n",
        "result = pow((b1*b2*b3)//a,1/3)\n",
        "if result>min(b1,b2,b3):\n",
        "  print(min(b1,b2,b3))\n",
        "else:\n",
        "  print(result)"
      ],
      "metadata": {
        "colab": {
          "base_uri": "https://localhost:8080/"
        },
        "id": "0TbdjwjgShSi",
        "outputId": "5ffcabb3-3a4a-4d05-ba11-02219a3bfc56"
      },
      "execution_count": 43,
      "outputs": [
        {
          "output_type": "stream",
          "name": "stdout",
          "text": [
            "10 4 2 10\n",
            "2.0\n"
          ]
        }
      ]
    },
    {
      "cell_type": "code",
      "source": [
        "#case 2 =>a\n",
        "a,b1,b2,b3 = map(int, input().split( ))\n",
        "result = pow(((b1/a)*(b2/a)*(b3/a)),1/3)\n",
        "if result>min(b1,b2,b3):\n",
        "  print(min(b1,b2,b3))\n",
        "else:\n",
        "  print(result)"
      ],
      "metadata": {
        "colab": {
          "base_uri": "https://localhost:8080/"
        },
        "id": "CfoTNr0vTfk1",
        "outputId": "c3a27154-608c-4a29-b819-6269bcc2460c"
      },
      "execution_count": 52,
      "outputs": [
        {
          "output_type": "stream",
          "name": "stdout",
          "text": [
            "77 146 523 229\n",
            "3.370848887087425\n"
          ]
        }
      ]
    },
    {
      "cell_type": "code",
      "source": [
        "(b1//a)*(b2//a)*(b3//a)"
      ],
      "metadata": {
        "colab": {
          "base_uri": "https://localhost:8080/"
        },
        "id": "n_HUCEykT3OT",
        "outputId": "ab8be806-d256-4cef-cbad-b782d9d4f8fd"
      },
      "execution_count": 55,
      "outputs": [
        {
          "output_type": "execute_result",
          "data": {
            "text/plain": [
              "12"
            ]
          },
          "metadata": {},
          "execution_count": 55
        }
      ]
    },
    {
      "cell_type": "code",
      "source": [],
      "metadata": {
        "colab": {
          "base_uri": "https://localhost:8080/"
        },
        "id": "CitdVnB2VoHm",
        "outputId": "ff8226d5-168b-4629-b6e2-4f82daf1fd89"
      },
      "execution_count": 53,
      "outputs": [
        {
          "output_type": "execute_result",
          "data": {
            "text/plain": [
              "3.370848887087425"
            ]
          },
          "metadata": {},
          "execution_count": 53
        }
      ]
    }
  ]
}