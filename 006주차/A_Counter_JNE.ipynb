{
 "cells": [
  {
   "cell_type": "code",
   "execution_count": 11,
   "metadata": {},
   "outputs": [
    {
     "name": "stdout",
     "output_type": "stream",
     "text": [
      "3 0 0 1 2 0 0 2 "
     ]
    }
   ],
   "source": [
    "n = int(input())\n",
    "card = list(map(int, input().split()))\n",
    "m = int(input())\n",
    "check = list(map(int, input().split()))\n",
    "\n",
    "card_count = {}\n",
    "\n",
    "# card list 안에 있는 요수 갯수 세기\n",
    "for c in card:\n",
    "    if c in card_count:\n",
    "        card_count[c] += 1\n",
    "    else:\n",
    "        card_count[c] = 1\n",
    "\n",
    "for ch in check:\n",
    "    # key 확인\n",
    "    if ch in card_count:\n",
    "        # key에 있으면 value 출력\n",
    "        print(card_count[ch], end = ' ')\n",
    "    else:\n",
    "        # key에 없으면 0 출력\n",
    "        print(0, end = ' ')"
   ]
  },
  {
   "cell_type": "code",
   "execution_count": 12,
   "metadata": {},
   "outputs": [
    {
     "data": {
      "text/plain": [
       "{6: 1, 3: 2, 2: 1, 10: 3, -10: 2, 7: 1}"
      ]
     },
     "execution_count": 12,
     "metadata": {},
     "output_type": "execute_result"
    }
   ],
   "source": [
    "card_count"
   ]
  },
  {
   "cell_type": "code",
   "execution_count": 13,
   "metadata": {},
   "outputs": [
    {
     "name": "stdout",
     "output_type": "stream",
     "text": [
      "3 0 0 1 2 0 0 2 "
     ]
    }
   ],
   "source": [
    "# collections 모듈에서 제공하는 Counter 클래스는 시퀀스의 요소를 자동으로 카운트\n",
    "from collections import Counter\n",
    "\n",
    "\n",
    "num_n = int(input())\n",
    "# 정수를 입력받아 Counter 객체 생성\n",
    "cards = Counter(map(int, input().split()))\n",
    "num_m = int(input())\n",
    "checking = list(map(int, input().split()))\n",
    "\n",
    "# 정수가 cards에 있으면 해다 value을 출력, 없으면 자동으로 0 출력\n",
    "for a in checking:\n",
    "    print(cards[a], end=' ')"
   ]
  },
  {
   "cell_type": "code",
   "execution_count": 14,
   "metadata": {},
   "outputs": [
    {
     "data": {
      "text/plain": [
       "Counter({10: 3, 3: 2, -10: 2, 6: 1, 2: 1, 7: 1})"
      ]
     },
     "execution_count": 14,
     "metadata": {},
     "output_type": "execute_result"
    }
   ],
   "source": [
    "cards"
   ]
  }
 ],
 "metadata": {
  "kernelspec": {
   "display_name": "Python 3",
   "language": "python",
   "name": "python3"
  },
  "language_info": {
   "codemirror_mode": {
    "name": "ipython",
    "version": 3
   },
   "file_extension": ".py",
   "mimetype": "text/x-python",
   "name": "python",
   "nbconvert_exporter": "python",
   "pygments_lexer": "ipython3",
   "version": "3.12.1"
  }
 },
 "nbformat": 4,
 "nbformat_minor": 2
}
