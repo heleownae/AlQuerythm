{
  "nbformat": 4,
  "nbformat_minor": 0,
  "metadata": {
    "colab": {
      "provenance": [],
      "authorship_tag": "ABX9TyN/eqDcB7D58Pu6DQkSyn7w",
      "include_colab_link": true
    },
    "kernelspec": {
      "name": "python3",
      "display_name": "Python 3"
    },
    "language_info": {
      "name": "python"
    }
  },
  "cells": [
    {
      "cell_type": "markdown",
      "metadata": {
        "id": "view-in-github",
        "colab_type": "text"
      },
      "source": [
        "<a href=\"https://colab.research.google.com/github/heleownae/AlQuerythm/blob/main/006%EC%A3%BC%EC%B0%A8/A_Counter_LSH.ipynb\" target=\"_parent\"><img src=\"https://colab.research.google.com/assets/colab-badge.svg\" alt=\"Open In Colab\"/></a>"
      ]
    },
    {
      "cell_type": "code",
      "execution_count": 1,
      "metadata": {
        "colab": {
          "base_uri": "https://localhost:8080/"
        },
        "id": "b8gwV0ceczEn",
        "outputId": "fc66e7cc-c318-4d0b-9c43-5a0731fa0cee"
      },
      "outputs": [
        {
          "output_type": "stream",
          "name": "stdout",
          "text": [
            "10\n",
            "6 3 2 10 10 10 -10 -10 7 3\n",
            "8\n",
            "10 9 -5 2 3 4 5 -10\n",
            "3 0 0 1 2 0 0 2 "
          ]
        }
      ],
      "source": [
        "a =int(input())\n",
        "numlist_1 =[int(x) for x in input().split(\" \")]\n",
        "#numlist = list(map(int, input().split(\" \")))\n",
        "\n",
        "a =int(input())\n",
        "#numlist =[int(x) for x in input().split(\" \")]\n",
        "numlist_2 = list(map(int, input().split(\" \")))\n",
        "\n",
        "for i in numlist_2:\n",
        "  print(numlist_1.count(i), end=' ')\n"
      ]
    },
    {
      "cell_type": "code",
      "source": [
        "문제점 : 시간 초과 해결방법,.."
      ],
      "metadata": {
        "id": "cgWykXNto9YZ"
      },
      "execution_count": null,
      "outputs": []
    },
    {
      "cell_type": "code",
      "source": [],
      "metadata": {
        "id": "69tryGm7p20F"
      },
      "execution_count": null,
      "outputs": []
    }
  ]
}