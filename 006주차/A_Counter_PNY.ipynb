{
  "nbformat": 4,
  "nbformat_minor": 0,
  "metadata": {
    "colab": {
      "provenance": [],
      "toc_visible": true
    },
    "kernelspec": {
      "name": "python3",
      "display_name": "Python 3"
    },
    "language_info": {
      "name": "python"
    }
  },
  "cells": [
    {
      "cell_type": "markdown",
      "source": [
        "# 백준 10816번 문제 / 숫자 카드 2\n",
        "\n",
        "https://www.acmicpc.net/problem/10816\n"
      ],
      "metadata": {
        "id": "6uylKGtprwGo"
      }
    },
    {
      "cell_type": "markdown",
      "source": [
        "10\n",
        "\n",
        "6 3 2 10 10 10 -10 -10 7 3\n",
        "\n",
        "8\n",
        "\n",
        "10 9 -5 2 3 4 5 -10"
      ],
      "metadata": {
        "id": "cbiwv04o8Xa1"
      }
    },
    {
      "cell_type": "markdown",
      "source": [
        "## 그냥 풀이 : 모두 실패"
      ],
      "metadata": {
        "id": "nOVOpCjsB75W"
      }
    },
    {
      "cell_type": "code",
      "source": [
        "# 시간 초과\n",
        "\n",
        "# 값 입력 받기\n",
        "num1 = int(input())\n",
        "my = list(map(int, input().split()))\n",
        "num2 = int(input())\n",
        "find = list(map(int, input().split()))\n",
        "\n",
        "# 숫자 별 개수를 저장할 딕셔너리 변수 설정\n",
        "# 딕셔너리 컴프리헨션: https://wikidocs.net/22797\n",
        "count = {num:0 for num in find}\n",
        "\n",
        "for card in my:\n",
        "  if card in find:\n",
        "    count[card] += 1\n",
        "\n",
        "print(*count.values())\n",
        "\n",
        "'''\n",
        "시간 복잡도 계산\n",
        "\n",
        "1. num1 = int(input())                    : O(1), 단순 입력 받기\n",
        "2. my = list(map(int, input().split()))   : O(n), 공백을 기준으로 데이터를 나누고 리스트에 저장하는 과정에서 리스트 요소의 개수(n개)\n",
        "3. num2 = int(input())                    : O(1), 단순 입력 받기\n",
        "4. find = list(map(int, input().split())) : O(m), 공백을 기준으로 데이터를 나누고 리스트에 저장하는 과정에서 리스트 요소의 개수(m개)\n",
        "5. count = {num:0 for num in find}        : O(m), find 리스트의 len에 비례\n",
        "6. for card in my:\n",
        "    if card in find:                      : O(n*m), my 리스트의 요소 확인 후, find 리스트의 요소도 확인 => n번 실행 * m번 실행\n",
        "      count[card] += 1                    : O(1), 단순 계산\n",
        "\n",
        "7. print(*count.values())                 : O(m) count 딕셔너리 len에 비례\n",
        "'''"
      ],
      "metadata": {
        "colab": {
          "base_uri": "https://localhost:8080/"
        },
        "id": "n2vpnS6Q69bO",
        "outputId": "edfaf4f1-8306-4d69-9538-6510f276412b"
      },
      "execution_count": 15,
      "outputs": [
        {
          "output_type": "stream",
          "name": "stdout",
          "text": [
            "10\n",
            "6 3 2 10 10 10 -10 -10 7 3\n",
            "8\n",
            "10 9 -5 2 3 4 5 -10\n",
            "3 0 0 1 2 0 0 2\n"
          ]
        }
      ]
    },
    {
      "cell_type": "code",
      "source": [
        "# 틀림(왜?)\n",
        "\n",
        "num1 = int(input())\n",
        "my = list(map(int, input().split()))\n",
        "num2 = int(input())\n",
        "find = list(map(int, input().split()))\n",
        "\n",
        "count = {num:0 for num in find}\n",
        "\n",
        "for card in my:\n",
        "  if card in count:\n",
        "    count[card] += 1\n",
        "\n",
        "print(*count.values())"
      ],
      "metadata": {
        "colab": {
          "base_uri": "https://localhost:8080/"
        },
        "id": "B9ehIBJSnSYx",
        "outputId": "b3cd8255-48bc-4636-a7b2-356d86a1f795"
      },
      "execution_count": 19,
      "outputs": [
        {
          "output_type": "stream",
          "name": "stdout",
          "text": [
            "1\n",
            "10 20 50 6 0 80\n",
            "2\n",
            "20 5 50 60 70\n",
            "1 0 1 0 0\n"
          ]
        }
      ]
    },
    {
      "cell_type": "code",
      "source": [
        "# 시간 초과\n",
        "\n",
        "num1 = int(input())\n",
        "my = list(map(int, input().split()))\n",
        "num2 = int(input())\n",
        "find = list(map(int, input().split()))\n",
        "\n",
        "count = {num:0 for num in find}\n",
        "\n",
        "for card in my:\n",
        "  if card in list(count.keys()):\n",
        "    count[card] += 1\n",
        "\n",
        "print(*count.values())"
      ],
      "metadata": {
        "colab": {
          "base_uri": "https://localhost:8080/"
        },
        "id": "HWypiCNPm8wx",
        "outputId": "b590f51a-a5f3-4527-ddb1-a21c40b8d702"
      },
      "execution_count": 18,
      "outputs": [
        {
          "output_type": "stream",
          "name": "stdout",
          "text": [
            "1\n",
            "10 20 50 6 0 80\n",
            "2\n",
            "20 5 50 60 70\n",
            "1 0 1 0 0\n"
          ]
        }
      ]
    },
    {
      "cell_type": "code",
      "source": [
        "# 시간 초과\n",
        "\n",
        "num1 = int(input())\n",
        "my = list(map(int, input().split()))\n",
        "num2 = int(input())\n",
        "find = list(map(int, input().split()))\n",
        "\n",
        "count_list = []\n",
        "for num in find:\n",
        "    count_list.append(my.count(num))\n",
        "\n",
        "print(*count_list)\n",
        "\n",
        "'''\n",
        "시간 복잡도 계산\n",
        "\n",
        "5. count_list = []                          : O(1), 단순 실행\n",
        "6. for num in find:\n",
        "      count_list.append(my.count(num))      : O(n*m), 반복문으로 find의 len만큼 반복 실행[O(m)] 및 몇 개가 있는지 my 리스트 전체를 탐색해야 하므로 [O(n)]. 즉, O(n*m)  # append는 시간복잡도 O(1)\n",
        "'''"
      ],
      "metadata": {
        "colab": {
          "base_uri": "https://localhost:8080/"
        },
        "id": "_gxjvW_NogPZ",
        "outputId": "ee6c2101-c577-4f62-988c-3c16a0de6ccc"
      },
      "execution_count": 20,
      "outputs": [
        {
          "output_type": "stream",
          "name": "stdout",
          "text": [
            "10\n",
            "6 3 2 10 10 10 -10 -10 7 3\n",
            "8\n",
            "10 9 -5 2 3 4 5 -10\n",
            "3 0 0 1 2 0 0 2\n"
          ]
        }
      ]
    },
    {
      "cell_type": "markdown",
      "source": [
        "## counter 사용\n",
        "* 메모리: 128148 kb\n",
        "* 시간: 692 ms"
      ],
      "metadata": {
        "id": "vh6FH9X_CSDt"
      }
    },
    {
      "cell_type": "markdown",
      "source": [
        "💡Counter class\n",
        "* https://docs.python.org/ko/3/library/collections.html\n",
        "* https://velog.io/@eunhye_/python-collections-Counter\n",
        "* https://mein-figur.tistory.com/entry/python-collections-counter\n",
        "  * Counter는 없는 key 값을 찾을 때에도 KeyError를 내지 않고 0으로 반환"
      ],
      "metadata": {
        "id": "nnsQ8r4GPC49"
      }
    },
    {
      "cell_type": "code",
      "source": [
        "from collections import Counter\n",
        "\n",
        "# 값 입력 받기\n",
        "num1 = int(input())\n",
        "my = Counter(list(map(int, input().split())))   # 입력 받으면서 count\n",
        "num2 = int(input())\n",
        "find = list(map(int, input().split()))\n",
        "\n",
        "# find의 숫자 순서대로 개수를 리스트로 저장\n",
        "count = [my[x] for x in find]\n",
        "\n",
        "print(*count)\n",
        "\n",
        "'''\n",
        "시간 복잡도 계산\n",
        "\n",
        "1. num1 = int(input())                              : O(1), 단순 입력 받기\n",
        "2. my = Counter(list(map(int, input().split())))    : O(n)\n",
        "                                                      input()   시간 복잡도 = O(1)\n",
        "                                                      split()   시간 복잡도 = O(n)\n",
        "                                                      map()     시간 복잡도 = O(n)\n",
        "                                                      list()    시간 복잡도 = O(n)\n",
        "                                                      Counter() 시간 복잡도 = O(n)\n",
        "3. num2 = int(input())                              : O(1), 단순 입력 받기\n",
        "4. find = list(map(int, input().split()))           : O(m), 공백을 기준으로 데이터를 나누고 리스트에 저장하는 과정에서 리스트 요소의 개수(m개)\n",
        "5. count = [my[x] for x in find]                    : O(1), 단순 입력 받기\n",
        "6. print(*count)                                    : O(1), 단순 입력 받기\n",
        "'''"
      ],
      "metadata": {
        "colab": {
          "base_uri": "https://localhost:8080/"
        },
        "id": "UgIQEEXRY4D1",
        "outputId": "0952f35d-26e5-4e7a-858b-0ba5dbba217d"
      },
      "execution_count": 13,
      "outputs": [
        {
          "output_type": "stream",
          "name": "stdout",
          "text": [
            "10\n",
            "6 3 2 10 10 10 -10 -10 7 3\n",
            "8\n",
            "10 9 -5 2 3 4 5 -10\n",
            "3 0 0 1 2 0 0 2\n"
          ]
        }
      ]
    },
    {
      "cell_type": "markdown",
      "source": [
        "## 이진 탐색\n",
        "* 메모리:  kb\n",
        "* 시간:  ms"
      ],
      "metadata": {
        "id": "rN8K11xKCWuX"
      }
    },
    {
      "cell_type": "code",
      "source": [],
      "metadata": {
        "id": "wnJq6yw5Y4rm"
      },
      "execution_count": null,
      "outputs": []
    }
  ]
}