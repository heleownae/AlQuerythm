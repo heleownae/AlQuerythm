{
  "nbformat": 4,
  "nbformat_minor": 0,
  "metadata": {
    "colab": {
      "provenance": []
    },
    "kernelspec": {
      "name": "python3",
      "display_name": "Python 3"
    },
    "language_info": {
      "name": "python"
    }
  },
  "cells": [
    {
      "cell_type": "markdown",
      "source": [
        "# 제가 올린 코드는 제가 실패했던 코드들입니다.\n",
        "도무지 푸는 방법을 모르겠어서 1차적으로 승현님 코드 보고 이해했습니다ㅠㅠㅠㅠ"
      ],
      "metadata": {
        "id": "HU0pEUGk4qrA"
      }
    },
    {
      "cell_type": "code",
      "execution_count": null,
      "metadata": {
        "id": "RO3fwsBu4WSn"
      },
      "outputs": [],
      "source": [
        "n=[1,2,3,4,5,6,7,8,9]\n",
        "while len(n)!=1:\n",
        "    count=0\n",
        "    for i in n:\n",
        "        if(count%2)==0:\n",
        "          n.pop(0)\n",
        "\n",
        "        else:\n",
        "          n.pop(0)\n",
        "          n.append(n)\n",
        "        count+=1\n",
        "print(n)"
      ]
    },
    {
      "cell_type": "code",
      "source": [
        "n=[1,2,3,4,5,6,7,8,9]\n",
        "num=[]\n",
        "while ((len(n)==1) & (len(num)==1)):\n",
        "  for ind, nu in enumerate(n):\n",
        "    if(ind%2)==0:\n",
        "      n.pop(0)\n",
        "    else:\n",
        "      n.pop(0)\n",
        "      num.append(nu)\n",
        "  for ind, nu in enumerate(num):\n",
        "    if(ind%2)==0:\n",
        "      num.pop(0)\n",
        "    else:\n",
        "      num.pop(0)\n",
        "      n.append(nu)\n",
        "print(n)"
      ],
      "metadata": {
        "colab": {
          "base_uri": "https://localhost:8080/"
        },
        "id": "4FwiGPd34ZhH",
        "outputId": "13f8fe93-8af0-426d-c82c-0cb8c7735f49"
      },
      "execution_count": 2,
      "outputs": [
        {
          "output_type": "stream",
          "name": "stdout",
          "text": [
            "[1, 2, 3, 4, 5, 6, 7, 8, 9]\n"
          ]
        }
      ]
    },
    {
      "cell_type": "code",
      "source": [],
      "metadata": {
        "id": "OLyb_YJv4ZUC"
      },
      "execution_count": null,
      "outputs": []
    }
  ]
}