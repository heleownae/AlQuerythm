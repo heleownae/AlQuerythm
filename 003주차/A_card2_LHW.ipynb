{
 "cells": [
  {
   "cell_type": "markdown",
   "metadata": {},
   "source": [
    "## 백준 2164 - [카드 2](https://www.acmicpc.net/problem/2164)\n",
    "\n",
    "이해원"
   ]
  },
  {
   "cell_type": "markdown",
   "metadata": {},
   "source": [
    "### 1. 기본"
   ]
  },
  {
   "cell_type": "code",
   "execution_count": null,
   "metadata": {},
   "outputs": [],
   "source": [
    "n = int(input())\n",
    "li = list(range(1, n+1))\n",
    "\n",
    "while len(li) > 1:\n",
    "    li.pop(0)\n",
    "    li.append(li.pop(0))\n",
    "\n",
    "print(li[0])"
   ]
  },
  {
   "cell_type": "code",
   "execution_count": 17,
   "metadata": {},
   "outputs": [
    {
     "name": "stdout",
     "output_type": "stream",
     "text": [
      "4\n"
     ]
    }
   ],
   "source": [
    "# 입력 예시\n",
    "n = 6\n",
    "li = list(range(1, n+1))\n",
    "\n",
    "while len(li) > 1:\n",
    "    li.pop(0)\n",
    "    li.append(li.pop(0))\n",
    "\n",
    "print(li[0])"
   ]
  },
  {
   "cell_type": "markdown",
   "metadata": {},
   "source": [
    "### 2. 라이브러리 사용"
   ]
  },
  {
   "cell_type": "code",
   "execution_count": null,
   "metadata": {},
   "outputs": [],
   "source": [
    "from collections import deque\n",
    "\n",
    "n = int(input())\n",
    "li = deque(range(1, n+1))\n",
    "\n",
    "while len(li) > 1:\n",
    "    li.popleft()\n",
    "    li.append(li.popleft())\n",
    "\n",
    "print(li[0])"
   ]
  },
  {
   "cell_type": "code",
   "execution_count": 19,
   "metadata": {},
   "outputs": [
    {
     "name": "stdout",
     "output_type": "stream",
     "text": [
      "4\n"
     ]
    }
   ],
   "source": [
    "from collections import deque\n",
    "\n",
    "n = 6\n",
    "li = deque(range(1, n+1))\n",
    "\n",
    "while len(li) > 1:\n",
    "    li.popleft()\n",
    "    li.append(li.popleft())\n",
    "\n",
    "print(li[0])"
   ]
  }
 ],
 "metadata": {
  "kernelspec": {
   "display_name": "Python 3",
   "language": "python",
   "name": "python3"
  },
  "language_info": {
   "codemirror_mode": {
    "name": "ipython",
    "version": 3
   },
   "file_extension": ".py",
   "mimetype": "text/x-python",
   "name": "python",
   "nbconvert_exporter": "python",
   "pygments_lexer": "ipython3",
   "version": "3.11.9"
  }
 },
 "nbformat": 4,
 "nbformat_minor": 2
}
