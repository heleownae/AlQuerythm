{
  "nbformat": 4,
  "nbformat_minor": 0,
  "metadata": {
    "colab": {
      "provenance": [],
      "toc_visible": true
    },
    "kernelspec": {
      "name": "python3",
      "display_name": "Python 3"
    },
    "language_info": {
      "name": "python"
    }
  },
  "cells": [
    {
      "cell_type": "markdown",
      "source": [
        "# 백준 2164번 문제 / 카드2\n",
        "\n",
        "https://www.acmicpc.net/problem/2164\n"
      ],
      "metadata": {
        "id": "6uylKGtprwGo"
      }
    },
    {
      "cell_type": "code",
      "source": [
        "n = int(input())\n",
        "\n",
        "card = list(range(1,n+1))\n",
        "\n",
        "while len(card) > 1:\n",
        "  del card[0]\n",
        "  card.append(card[0])\n",
        "  del card[0]\n",
        "\n",
        "print(*card)                # https://yeomss.tistory.com/160  :  * 을 붙여주면 리스트의 내용을 대괄호 없이 한번에 출력 가능, 리스트에 Asterisk(*)를 사용하면 리스트 압축 해제"
      ],
      "metadata": {
        "colab": {
          "base_uri": "https://localhost:8080/"
        },
        "id": "7_WHLsLHh1a0",
        "outputId": "f240ab2f-c06d-46a1-e80c-75f5e75fbc0a"
      },
      "execution_count": 2,
      "outputs": [
        {
          "output_type": "stream",
          "name": "stdout",
          "text": [
            "6\n",
            "4\n"
          ]
        }
      ]
    },
    {
      "cell_type": "markdown",
      "source": [
        "* 왜 collections.deque를 사용하는지 설명\n",
        "  * https://suri78.tistory.com/50\n",
        "\n",
        "* collections.deque 사용법\n",
        "  * https://docs.python.org/3/library/collections.html#collections.deque"
      ],
      "metadata": {
        "id": "x77ET8WipWg2"
      }
    },
    {
      "cell_type": "code",
      "source": [
        "from collections import deque\n",
        "\n",
        "n = int(input())\n",
        "card = deque(range(1, n+1))\n",
        "\n",
        "while len(card) > 1:\n",
        "  card.popleft()\n",
        "  card.rotate(-1)\n",
        "\n",
        "print(*card)"
      ],
      "metadata": {
        "colab": {
          "base_uri": "https://localhost:8080/"
        },
        "id": "04KDZXCgmk-y",
        "outputId": "23ed1707-03a6-4f93-ac42-c5c4985d44e4"
      },
      "execution_count": 7,
      "outputs": [
        {
          "output_type": "stream",
          "name": "stdout",
          "text": [
            "6\n",
            "4\n"
          ]
        }
      ]
    }
  ]
}