def solution(s):
    result=[]
    for i, j in enumerate(s):
        answer = s[:i]
        if answer.find(j) == -1:
            result.append(answer.find(j))
        else:
            result.append(len(answer)-answer.rfind(j))
    return result
