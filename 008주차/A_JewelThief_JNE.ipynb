{
 "cells": [
  {
   "cell_type": "code",
   "execution_count": null,
   "metadata": {},
   "outputs": [],
   "source": [
    "# 보석 갯수 N, 가방 갯수 K \n",
    "N, K = map(int, input().split())\n",
    "\n",
    "# 보석 정보를 저장\n",
    "jewels = {}\n",
    "\n",
    "# N개의 줄에 걸쳐 보석 정보 입력 받기\n",
    "for i in range(N):\n",
    "    # 각 보석의 무게(Mi)와 값(Vi) 입력 받기\n",
    "    Mi, Vi = map(int, input().split()) \n",
    "    # Mi key, Vi value\n",
    "    jewels[Mi] = Vi  \n",
    "    \n",
    "# 가방 최대 무게\n",
    "C = int(input())\n",
    "\n",
    "jewels_value = 0\n",
    "bag_weight = 0\n",
    "\n",
    "def calculate_value():\n",
    "    global jewels_value, bag_weight\n",
    "    \n",
    "    # 보석의 무게를 기준으로 정렬\n",
    "    sorted_jewels = sorted(jewels.items())\n",
    "\n",
    "    for weight, value in sorted_jewels:\n",
    "        if bag_weight + weight <= C:\n",
    "            bag_weight += weight\n",
    "            jewels_value += value\n",
    "        else:\n",
    "            break\n",
    "    \n",
    "    return jewels_value\n",
    "\n",
    "# 함수 호출 및 결과 출력\n",
    "result = calculate_value()\n",
    "print(result)\n",
    "\n",
    "# 가방 최대 무게 고려 안해서 탈락"
   ]
  },
  {
   "cell_type": "markdown",
   "metadata": {},
   "source": [
    "# 힙(Heap)\n",
    "힙은 완전 이진 트리의 한 형태\n",
    "\n",
    "- 최소 힙(Min Heap): 각 노드의 값은 그 자식 노드의 값보다 작거나 같아야 합니다. 즉, 루트 노드는 트리의 최소값을 갖습니다.\n",
    "- 최대 힙(Max Heap): 각 노드의 값은 그 자식 노드의 값보다 크거나 같아야 합니다. 즉, 루트 노드는 트리의 최대값을 갖습니다.\n",
    "\n",
    "힙은 주로 배열로 구현\n",
    "\n",
    "부모-자식 간의 관계가 배열 인덱스에 의해 쉽게 찾아짐\n",
    "\n",
    "우선순위 큐의 구현 방법 중 하나로 사용\n",
    "\n",
    "# 우선순위 큐(Priority Queue)\n",
    "각 요소가 우선순위와 함께 저장되는 추상적인 데이터 구조\n",
    "\n",
    "요소들은 우선순위에 따라 정렬\n",
    "\n",
    "가장 높은 우선순위를 가진 요소가 가장 먼저 제거"
   ]
  },
  {
   "cell_type": "code",
   "execution_count": 20,
   "metadata": {},
   "outputs": [
    {
     "name": "stdout",
     "output_type": "stream",
     "text": [
      "164\n"
     ]
    }
   ],
   "source": [
    "import heapq\n",
    "# 최소 힙은 루트에 항상 가장 작은 원소를 위치시키는 구조\n",
    "\n",
    "# 입력 받기\n",
    "N, K = map(int, input().split())\n",
    "\n",
    "jewels = []\n",
    "for _ in range(N):\n",
    "    Mi, Vi = map(int, input().split())\n",
    "    jewels.append((Mi, Vi))\n",
    "\n",
    "bags = []\n",
    "for _ in range(K):\n",
    "    Ci = int(input())\n",
    "    bags.append(Ci)\n",
    "\n",
    "# 보석 무게 기준으로 정렬\n",
    "jewels.sort()\n",
    "# 가방 용량 기준으로 정렬\n",
    "bags.sort()\n",
    "\n",
    "max_value = 0\n",
    "possible_jewels = []\n",
    "jewel_index = 0\n",
    "\n",
    "# 각 가방에 대해\n",
    "for bag in bags:\n",
    "    # 현재 가방에 담을 수 있는 모든 보석을 우선순위 큐에 추가\n",
    "    while jewel_index < N and jewels[jewel_index][0] <= bag:\n",
    "        # - 붙여서 가격 젤 놓은거 픽\n",
    "        heapq.heappush(possible_jewels, -jewels[jewel_index][1])\n",
    "        jewel_index += 1\n",
    "    \n",
    "    # 가장 가치가 높은 보석을 선택\n",
    "    if possible_jewels:\n",
    "        max_value -= heapq.heappop(possible_jewels)\n",
    "\n",
    "print(max_value)\n",
    "# 근데 시간 초과...?"
   ]
  }
 ],
 "metadata": {
  "kernelspec": {
   "display_name": "Python 3",
   "language": "python",
   "name": "python3"
  },
  "language_info": {
   "codemirror_mode": {
    "name": "ipython",
    "version": 3
   },
   "file_extension": ".py",
   "mimetype": "text/x-python",
   "name": "python",
   "nbconvert_exporter": "python",
   "pygments_lexer": "ipython3",
   "version": "3.12.1"
  }
 },
 "nbformat": 4,
 "nbformat_minor": 2
}
