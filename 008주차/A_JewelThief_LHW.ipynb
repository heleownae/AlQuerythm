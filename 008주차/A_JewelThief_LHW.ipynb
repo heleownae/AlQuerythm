{
 "cells": [
  {
   "cell_type": "markdown",
   "metadata": {},
   "source": [
    "### 백준 1202 보석 도둑 (이해원)"
   ]
  },
  {
   "cell_type": "markdown",
   "metadata": {},
   "source": [
    "**[학습 내용]**\n",
    "\n",
    "- 힙\n",
    "\n",
    "    - [Python Docs: 힙 큐 알고리즘 구현](https://docs.python.org/ko/3/library/heapq.html)\n",
    "\n",
    "    - [좌충우돌, 파이썬으로 자료구조 구현하기: 파이썬으로 힙(heap) 구현하기](https://wikidocs.net/194445)\n",
    "\n",
    "    - [좌충우돌, 파이썬으로 자료구조 구현하기: Heappush와 heappop 구현하기](https://wikidocs.net/194566)\n",
    "\n",
    "    - [점프 투 파이썬 - 라이브러리 예제 편: 수상자 3명을 선정하려면? ― heapq](https://wikidocs.net/105044)\n",
    "\n",
    "- 리스트 컴프리헨션\n",
    "\n",
    "    - [Python Docs:  5. 자료구조 - 5.1.3. 리스트 컴프리헨션](https://docs.python.org/ko/3/tutorial/datastructures.html#list-comprehensions)\n",
    "\n",
    "    - [제대로 파이썬: 리스트 컴프리헨션](https://wikidocs.net/22805)\n",
    "\n",
    "    - [파이썬 입문: 03 제어문과 컬션 - 07) 리스트 컴프리헨션](https://wikidocs.net/164981)"
   ]
  },
  {
   "cell_type": "code",
   "execution_count": null,
   "metadata": {},
   "outputs": [],
   "source": [
    "import sys\n",
    "import heapq\n",
    "\n",
    "input = sys.stdin.readline  # 시간 초과 방지\n",
    "N, K = map(int, input().split())  # 보석 개수, 가방 개수\n",
    "\n",
    "# jwl = []\n",
    "# for _ in range(N):\n",
    "#     M, V = map(int, input().split())\n",
    "#     jwl.append([M, V])\n",
    "# jwl.sort()\n",
    "\n",
    "# bag = []\n",
    "# for _ in range(K):\n",
    "#     C = int(input())\n",
    "#     bag.append(C)\n",
    "# bag.sort()\n",
    "\n",
    "# 각 보석의 [무게, 가격]을 입력받아 jwl 리스트에 저장, *는 언패킹 연산자\n",
    "jwl = [[*map(int,input().split())] for _ in range(N)]\n",
    "# 각 가방의 최대 무게를 입력받아 bag 리스트에 저장\n",
    "bag = [int(input()) for _ in range(K)]\n",
    "\n",
    "jwl.sort()  # 보석 무게 오름차순\n",
    "bag.sort()  # 가방 무게 오름차순\n",
    "\n",
    "answer = 0\n",
    "price = []  # 보석 가격이 임시로 저장될 빈 리스트\n",
    "\n",
    "for i in bag:\n",
    "    # jwl 리스트가 비어있지 않고, 첫 번째(=가장 가벼운) 보석 무게 <= 가방 최대 무게\n",
    "    while jwl and jwl[0][0] <= i:\n",
    "        # 위 조건이 성립하면 price에 가격을 추가, heapq가 최소 힙을 구현하기 때문에 음수로 변환\n",
    "        heapq.heappush(price, -jwl[0][1])\n",
    "        # price에서 해당 보석 제거\n",
    "        heapq.heappop(jwl)\n",
    "    # price에 보석이 있으면\n",
    "    if price:\n",
    "        # 가장 가격이 높은 보석을 heapq.heappop 후 answer에 더하기\n",
    "        answer -= heapq.heappop(price)\n",
    "\n",
    "print(answer)"
   ]
  }
 ],
 "metadata": {
  "language_info": {
   "name": "python"
  }
 },
 "nbformat": 4,
 "nbformat_minor": 2
}
