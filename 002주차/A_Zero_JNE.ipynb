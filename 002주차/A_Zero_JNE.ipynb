{
 "cells": [
  {
   "cell_type": "code",
   "execution_count": 8,
   "metadata": {},
   "outputs": [
    {
     "name": "stdout",
     "output_type": "stream",
     "text": [
      "7\n"
     ]
    }
   ],
   "source": [
    "a = int(input())\n",
    "number = []\n",
    "\n",
    "# a개의 행이 필요함\n",
    "for i in range(1, a+1):\n",
    "    # 합산할 숫자 입력\n",
    "    b = int(input())\n",
    "    if b == 0:\n",
    "        number.pop()\n",
    "    else:\n",
    "        number.append(b)\n",
    "        \n",
    "print(sum(number))\n",
    "    "
   ]
  }
 ],
 "metadata": {
  "kernelspec": {
   "display_name": "Python 3",
   "language": "python",
   "name": "python3"
  },
  "language_info": {
   "codemirror_mode": {
    "name": "ipython",
    "version": 3
   },
   "file_extension": ".py",
   "mimetype": "text/x-python",
   "name": "python",
   "nbconvert_exporter": "python",
   "pygments_lexer": "ipython3",
   "version": "3.12.1"
  }
 },
 "nbformat": 4,
 "nbformat_minor": 2
}
