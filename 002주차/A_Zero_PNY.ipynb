{
  "nbformat": 4,
  "nbformat_minor": 0,
  "metadata": {
    "colab": {
      "provenance": [],
      "toc_visible": true
    },
    "kernelspec": {
      "name": "python3",
      "display_name": "Python 3"
    },
    "language_info": {
      "name": "python"
    }
  },
  "cells": [
    {
      "cell_type": "markdown",
      "source": [
        "# 백준 10773번 문제\n",
        "\n",
        "https://www.acmicpc.net/problem/10773\n"
      ],
      "metadata": {
        "id": "6uylKGtprwGo"
      }
    },
    {
      "cell_type": "markdown",
      "source": [
        "시간은 del 명령문이 조금 더 짧게 소요됨\n",
        "\n",
        "    del : 3788ms\n",
        "    pop : 4684ms"
      ],
      "metadata": {
        "id": "SQAkFtQKBgbe"
      }
    },
    {
      "cell_type": "markdown",
      "source": [
        "* del 명령문 사용"
      ],
      "metadata": {
        "id": "8Tu-PalBsgHb"
      }
    },
    {
      "cell_type": "code",
      "source": [
        "iter_num = int(input())\n",
        "num_list = []\n",
        "\n",
        "for i in range(iter_num):\n",
        "  n = int(input())\n",
        "  if n > 0:\n",
        "    num_list += [n]\n",
        "  else:\n",
        "    del num_list[-1]   # del 명령문 사용\n",
        "  # num_list.pop()     # pop 메서드 사용\n",
        "\n",
        "print(sum(num_list))"
      ],
      "metadata": {
        "colab": {
          "base_uri": "https://localhost:8080/"
        },
        "id": "-Su4xtc44icV",
        "outputId": "69c97089-d45c-463b-9ca8-766371d459fb"
      },
      "execution_count": 3,
      "outputs": [
        {
          "output_type": "stream",
          "name": "stdout",
          "text": [
            "4\n",
            "3\n",
            "0\n",
            "4\n",
            "0\n",
            "0\n"
          ]
        }
      ]
    },
    {
      "cell_type": "code",
      "source": [
        "iter_num = int(input())\n",
        "num_list = []\n",
        "\n",
        "for i in range(iter_num):\n",
        "  n = int(input())\n",
        "  if n > 0:\n",
        "    num_list += [n]\n",
        "  else:\n",
        "    del num_list[-1]   # del 명령문 사용\n",
        "  # num_list.pop()     # pop 메서드 사용\n",
        "\n",
        "print(sum(num_list))"
      ],
      "metadata": {
        "colab": {
          "base_uri": "https://localhost:8080/"
        },
        "id": "Mn_waHnP_44a",
        "outputId": "a9a9c1fb-c2fc-441f-dce3-fab3361a64ca"
      },
      "execution_count": 5,
      "outputs": [
        {
          "output_type": "stream",
          "name": "stdout",
          "text": [
            "10\n",
            "1\n",
            "3\n",
            "5\n",
            "4\n",
            "0\n",
            "0\n",
            "7\n",
            "0\n",
            "0\n",
            "6\n",
            "7\n"
          ]
        }
      ]
    },
    {
      "cell_type": "markdown",
      "source": [
        "* pop 메서드 사용"
      ],
      "metadata": {
        "id": "Nq26VSc8BZ-4"
      }
    },
    {
      "cell_type": "code",
      "source": [
        "iter_num = int(input())\n",
        "num_list = []\n",
        "\n",
        "for i in range(iter_num):\n",
        "  n = int(input())\n",
        "  if n > 0:\n",
        "    num_list += [n]\n",
        "  else:\n",
        "  # del num_list[-1]   # del 명령문 사용\n",
        "    num_list.pop()     # pop 메서드 사용\n",
        "\n",
        "print(sum(num_list))"
      ],
      "metadata": {
        "colab": {
          "base_uri": "https://localhost:8080/"
        },
        "id": "ICVrPQSV_XJW",
        "outputId": "755a5c6c-3ccd-4f4e-bbc9-828fa5a54883"
      },
      "execution_count": 8,
      "outputs": [
        {
          "output_type": "stream",
          "name": "stdout",
          "text": [
            "4\n",
            "3\n",
            "0\n",
            "4\n",
            "0\n",
            "0\n"
          ]
        }
      ]
    },
    {
      "cell_type": "code",
      "source": [
        "iter_num = int(input())\n",
        "num_list = []\n",
        "\n",
        "for i in range(iter_num):\n",
        "  n = int(input())\n",
        "  if n > 0:\n",
        "    num_list += [n]\n",
        "  else:\n",
        "  # del num_list[-1]   # del 명령문 사용\n",
        "    num_list.pop()     # pop 메서드 사용\n",
        "\n",
        "print(sum(num_list))"
      ],
      "metadata": {
        "colab": {
          "base_uri": "https://localhost:8080/"
        },
        "id": "Fu-FabxrAAaf",
        "outputId": "9a85ffaf-6968-4ff3-ea42-dd869787738e"
      },
      "execution_count": 9,
      "outputs": [
        {
          "output_type": "stream",
          "name": "stdout",
          "text": [
            "10\n",
            "1\n",
            "3\n",
            "5\n",
            "4\n",
            "0\n",
            "0\n",
            "7\n",
            "0\n",
            "0\n",
            "6\n",
            "7\n"
          ]
        }
      ]
    }
  ]
}