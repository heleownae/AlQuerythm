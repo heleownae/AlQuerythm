{
  "nbformat": 4,
  "nbformat_minor": 0,
  "metadata": {
    "colab": {
      "provenance": []
    },
    "kernelspec": {
      "name": "python3",
      "display_name": "Python 3"
    },
    "language_info": {
      "name": "python"
    }
  },
  "cells": [
    {
      "cell_type": "code",
      "execution_count": null,
      "metadata": {
        "id": "ZW6dWRmtMYgj"
      },
      "outputs": [],
      "source": [
        "temp = []\n",
        "k = int(input())\n",
        "for a in range(k):\n",
        "    number = int(input())\n",
        "    if number == 0:\n",
        "        temp.pop()\n",
        "    else:\n",
        "        temp.append(number)\n",
        "print(sum(temp))"
      ]
    }
  ]
}